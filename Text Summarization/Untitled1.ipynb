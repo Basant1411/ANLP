{
  "cells": [
    {
      "cell_type": "code",
      "execution_count": null,
      "metadata": {
        "id": "mkXwe2RyB-_d"
      },
      "outputs": [],
      "source": [
        "text = \"\"\"Computer science is a dynamic field at the forefront of technological innovation and problem-solving. It encompasses the study of algorithms, data structures, programming languages, and the theoretical foundations of computing. With roots in mathematics and engineering, computer science explores the design, development, and application of software systems and computational techniques to tackle complex challenges across various domains. From artificial intelligence and machine learning to cybersecurity and robotics, computer science plays a pivotal role in shaping the modern world. Its interdisciplinary nature fosters collaboration with other disciplines, driving advancements in fields like healthcare, finance, and entertainment. As society increasingly relies on technology, computer scientists continue to push boundaries, creating new opportunities and addressing emerging issues to shape a more connected and efficient future.\"\"\""
      ]
    },
    {
      "cell_type": "code",
      "execution_count": null,
      "metadata": {
        "colab": {
          "base_uri": "https://localhost:8080/"
        },
        "id": "yYR5WlKSCuZB",
        "outputId": "1f8f985e-02ba-4e20-b6e7-cda22ed6c07a"
      },
      "outputs": [
        {
          "data": {
            "text/plain": [
              "939"
            ]
          },
          "execution_count": 2,
          "metadata": {},
          "output_type": "execute_result"
        }
      ],
      "source": [
        "len(text)"
      ]
    },
    {
      "cell_type": "markdown",
      "metadata": {
        "id": "Og4FdsvGjxFA"
      },
      "source": []
    },
    {
      "cell_type": "code",
      "execution_count": null,
      "metadata": {
        "id": "zCaRkBiiCygi"
      },
      "outputs": [],
      "source": [
        "import spacy\n",
        "from spacy.lang.en.stop_words import STOP_WORDS\n",
        "from string import punctuation"
      ]
    },
    {
      "cell_type": "code",
      "execution_count": null,
      "metadata": {
        "id": "0dapKbXYDFYD"
      },
      "outputs": [],
      "source": [
        "nlp = spacy.load('en_core_web_sm')"
      ]
    },
    {
      "cell_type": "code",
      "execution_count": null,
      "metadata": {
        "id": "izUj6phADQNp"
      },
      "outputs": [],
      "source": [
        "doc = nlp(text)"
      ]
    },
    {
      "cell_type": "code",
      "execution_count": null,
      "metadata": {
        "id": "s1B9LXC9DT4u"
      },
      "outputs": [],
      "source": [
        "tokens = [token.text.lower() for token in doc\n",
        "          if not token.is_stop and\n",
        "          not token.is_punct and\n",
        "          token.text != '\\n' ]"
      ]
    },
    {
      "cell_type": "code",
      "execution_count": null,
      "metadata": {
        "colab": {
          "base_uri": "https://localhost:8080/"
        },
        "id": "4qnEXYOuEDQ1",
        "outputId": "81951305-6c5f-49a6-97ae-f416e9c14cf7"
      },
      "outputs": [
        {
          "data": {
            "text/plain": [
              "['computer',\n",
              " 'science',\n",
              " 'dynamic',\n",
              " 'field',\n",
              " 'forefront',\n",
              " 'technological',\n",
              " 'innovation',\n",
              " 'problem',\n",
              " 'solving',\n",
              " 'encompasses',\n",
              " 'study',\n",
              " 'algorithms',\n",
              " 'data',\n",
              " 'structures',\n",
              " 'programming',\n",
              " 'languages',\n",
              " 'theoretical',\n",
              " 'foundations',\n",
              " 'computing',\n",
              " 'roots',\n",
              " 'mathematics',\n",
              " 'engineering',\n",
              " 'computer',\n",
              " 'science',\n",
              " 'explores',\n",
              " 'design',\n",
              " 'development',\n",
              " 'application',\n",
              " 'software',\n",
              " 'systems',\n",
              " 'computational',\n",
              " 'techniques',\n",
              " 'tackle',\n",
              " 'complex',\n",
              " 'challenges',\n",
              " 'domains',\n",
              " 'artificial',\n",
              " 'intelligence',\n",
              " 'machine',\n",
              " 'learning',\n",
              " 'cybersecurity',\n",
              " 'robotics',\n",
              " 'computer',\n",
              " 'science',\n",
              " 'plays',\n",
              " 'pivotal',\n",
              " 'role',\n",
              " 'shaping',\n",
              " 'modern',\n",
              " 'world',\n",
              " 'interdisciplinary',\n",
              " 'nature',\n",
              " 'fosters',\n",
              " 'collaboration',\n",
              " 'disciplines',\n",
              " 'driving',\n",
              " 'advancements',\n",
              " 'fields',\n",
              " 'like',\n",
              " 'healthcare',\n",
              " 'finance',\n",
              " 'entertainment',\n",
              " 'society',\n",
              " 'increasingly',\n",
              " 'relies',\n",
              " 'technology',\n",
              " 'computer',\n",
              " 'scientists',\n",
              " 'continue',\n",
              " 'push',\n",
              " 'boundaries',\n",
              " 'creating',\n",
              " 'new',\n",
              " 'opportunities',\n",
              " 'addressing',\n",
              " 'emerging',\n",
              " 'issues',\n",
              " 'shape',\n",
              " 'connected',\n",
              " 'efficient',\n",
              " 'future']"
            ]
          },
          "execution_count": 9,
          "metadata": {},
          "output_type": "execute_result"
        }
      ],
      "source": [
        "tokens"
      ]
    },
    {
      "cell_type": "code",
      "execution_count": null,
      "metadata": {
        "id": "VqSm2qKdEHUg"
      },
      "outputs": [],
      "source": [
        "tokens1 = []\n",
        "stopwords = list(STOP_WORDS)\n",
        "allowed_pos = ['ADJ','PROPN','VERB','NOUN']\n",
        "for token in doc:\n",
        "  if token.text in stopwords or token.text in punctuation:\n",
        "    continue\n",
        "  if token.pos_ in allowed_pos:\n",
        "    tokens1.append(token.text)"
      ]
    },
    {
      "cell_type": "code",
      "execution_count": null,
      "metadata": {
        "colab": {
          "base_uri": "https://localhost:8080/"
        },
        "id": "cil6R524GKr2",
        "outputId": "2aa78232-2b9d-420a-e67c-815879beb07b"
      },
      "outputs": [
        {
          "data": {
            "text/plain": [
              "['Computer',\n",
              " 'science',\n",
              " 'dynamic',\n",
              " 'field',\n",
              " 'forefront',\n",
              " 'technological',\n",
              " 'innovation',\n",
              " 'problem',\n",
              " 'solving',\n",
              " 'encompasses',\n",
              " 'study',\n",
              " 'algorithms',\n",
              " 'data',\n",
              " 'structures',\n",
              " 'programming',\n",
              " 'languages',\n",
              " 'theoretical',\n",
              " 'foundations',\n",
              " 'computing',\n",
              " 'roots',\n",
              " 'mathematics',\n",
              " 'engineering',\n",
              " 'computer',\n",
              " 'science',\n",
              " 'explores',\n",
              " 'design',\n",
              " 'development',\n",
              " 'application',\n",
              " 'software',\n",
              " 'systems',\n",
              " 'computational',\n",
              " 'techniques',\n",
              " 'tackle',\n",
              " 'complex',\n",
              " 'challenges',\n",
              " 'domains',\n",
              " 'artificial',\n",
              " 'intelligence',\n",
              " 'machine',\n",
              " 'learning',\n",
              " 'cybersecurity',\n",
              " 'robotics',\n",
              " 'computer',\n",
              " 'science',\n",
              " 'plays',\n",
              " 'pivotal',\n",
              " 'role',\n",
              " 'shaping',\n",
              " 'modern',\n",
              " 'world',\n",
              " 'interdisciplinary',\n",
              " 'nature',\n",
              " 'fosters',\n",
              " 'collaboration',\n",
              " 'disciplines',\n",
              " 'driving',\n",
              " 'advancements',\n",
              " 'fields',\n",
              " 'healthcare',\n",
              " 'finance',\n",
              " 'entertainment',\n",
              " 'society',\n",
              " 'relies',\n",
              " 'technology',\n",
              " 'computer',\n",
              " 'scientists',\n",
              " 'continue',\n",
              " 'push',\n",
              " 'boundaries',\n",
              " 'creating',\n",
              " 'new',\n",
              " 'opportunities',\n",
              " 'addressing',\n",
              " 'emerging',\n",
              " 'issues',\n",
              " 'shape',\n",
              " 'connected',\n",
              " 'efficient',\n",
              " 'future']"
            ]
          },
          "execution_count": 11,
          "metadata": {},
          "output_type": "execute_result"
        }
      ],
      "source": [
        "tokens1"
      ]
    },
    {
      "cell_type": "code",
      "execution_count": null,
      "metadata": {
        "id": "b8okc-PZGNMR"
      },
      "outputs": [],
      "source": [
        "from collections import Counter"
      ]
    },
    {
      "cell_type": "code",
      "execution_count": null,
      "metadata": {
        "id": "oA-zTFjZHDTE"
      },
      "outputs": [],
      "source": [
        "word_freq = Counter(tokens)"
      ]
    },
    {
      "cell_type": "code",
      "execution_count": null,
      "metadata": {
        "colab": {
          "base_uri": "https://localhost:8080/"
        },
        "id": "ViKRuVxpHF4U",
        "outputId": "9c252d5b-2caa-4d98-e178-8033de420459"
      },
      "outputs": [
        {
          "data": {
            "text/plain": [
              "Counter({'computer': 4,\n",
              "         'science': 3,\n",
              "         'dynamic': 1,\n",
              "         'field': 1,\n",
              "         'forefront': 1,\n",
              "         'technological': 1,\n",
              "         'innovation': 1,\n",
              "         'problem': 1,\n",
              "         'solving': 1,\n",
              "         'encompasses': 1,\n",
              "         'study': 1,\n",
              "         'algorithms': 1,\n",
              "         'data': 1,\n",
              "         'structures': 1,\n",
              "         'programming': 1,\n",
              "         'languages': 1,\n",
              "         'theoretical': 1,\n",
              "         'foundations': 1,\n",
              "         'computing': 1,\n",
              "         'roots': 1,\n",
              "         'mathematics': 1,\n",
              "         'engineering': 1,\n",
              "         'explores': 1,\n",
              "         'design': 1,\n",
              "         'development': 1,\n",
              "         'application': 1,\n",
              "         'software': 1,\n",
              "         'systems': 1,\n",
              "         'computational': 1,\n",
              "         'techniques': 1,\n",
              "         'tackle': 1,\n",
              "         'complex': 1,\n",
              "         'challenges': 1,\n",
              "         'domains': 1,\n",
              "         'artificial': 1,\n",
              "         'intelligence': 1,\n",
              "         'machine': 1,\n",
              "         'learning': 1,\n",
              "         'cybersecurity': 1,\n",
              "         'robotics': 1,\n",
              "         'plays': 1,\n",
              "         'pivotal': 1,\n",
              "         'role': 1,\n",
              "         'shaping': 1,\n",
              "         'modern': 1,\n",
              "         'world': 1,\n",
              "         'interdisciplinary': 1,\n",
              "         'nature': 1,\n",
              "         'fosters': 1,\n",
              "         'collaboration': 1,\n",
              "         'disciplines': 1,\n",
              "         'driving': 1,\n",
              "         'advancements': 1,\n",
              "         'fields': 1,\n",
              "         'like': 1,\n",
              "         'healthcare': 1,\n",
              "         'finance': 1,\n",
              "         'entertainment': 1,\n",
              "         'society': 1,\n",
              "         'increasingly': 1,\n",
              "         'relies': 1,\n",
              "         'technology': 1,\n",
              "         'scientists': 1,\n",
              "         'continue': 1,\n",
              "         'push': 1,\n",
              "         'boundaries': 1,\n",
              "         'creating': 1,\n",
              "         'new': 1,\n",
              "         'opportunities': 1,\n",
              "         'addressing': 1,\n",
              "         'emerging': 1,\n",
              "         'issues': 1,\n",
              "         'shape': 1,\n",
              "         'connected': 1,\n",
              "         'efficient': 1,\n",
              "         'future': 1})"
            ]
          },
          "execution_count": 15,
          "metadata": {},
          "output_type": "execute_result"
        }
      ],
      "source": [
        "word_freq"
      ]
    },
    {
      "cell_type": "code",
      "execution_count": null,
      "metadata": {
        "id": "VyYswDsRHaYn"
      },
      "outputs": [],
      "source": [
        "max_freq = max(word_freq.values())"
      ]
    },
    {
      "cell_type": "code",
      "execution_count": null,
      "metadata": {
        "colab": {
          "base_uri": "https://localhost:8080/"
        },
        "id": "WSt81Hh9HoeR",
        "outputId": "3cbd7720-a1cc-405d-b574-9758b1593b16"
      },
      "outputs": [
        {
          "data": {
            "text/plain": [
              "4"
            ]
          },
          "execution_count": 17,
          "metadata": {},
          "output_type": "execute_result"
        }
      ],
      "source": [
        "max_freq"
      ]
    },
    {
      "cell_type": "code",
      "execution_count": null,
      "metadata": {
        "id": "SKNIhB_xHuYw"
      },
      "outputs": [],
      "source": [
        "for word in word_freq.keys():\n",
        "  word_freq[word] = word_freq[word]/max_freq"
      ]
    },
    {
      "cell_type": "code",
      "execution_count": null,
      "metadata": {
        "colab": {
          "base_uri": "https://localhost:8080/"
        },
        "id": "4qIdigsSID7-",
        "outputId": "0fb0cb6e-7353-4d7f-eb1e-8c85a4753550"
      },
      "outputs": [
        {
          "data": {
            "text/plain": [
              "Counter({'computer': 1.0,\n",
              "         'science': 0.75,\n",
              "         'dynamic': 0.25,\n",
              "         'field': 0.25,\n",
              "         'forefront': 0.25,\n",
              "         'technological': 0.25,\n",
              "         'innovation': 0.25,\n",
              "         'problem': 0.25,\n",
              "         'solving': 0.25,\n",
              "         'encompasses': 0.25,\n",
              "         'study': 0.25,\n",
              "         'algorithms': 0.25,\n",
              "         'data': 0.25,\n",
              "         'structures': 0.25,\n",
              "         'programming': 0.25,\n",
              "         'languages': 0.25,\n",
              "         'theoretical': 0.25,\n",
              "         'foundations': 0.25,\n",
              "         'computing': 0.25,\n",
              "         'roots': 0.25,\n",
              "         'mathematics': 0.25,\n",
              "         'engineering': 0.25,\n",
              "         'explores': 0.25,\n",
              "         'design': 0.25,\n",
              "         'development': 0.25,\n",
              "         'application': 0.25,\n",
              "         'software': 0.25,\n",
              "         'systems': 0.25,\n",
              "         'computational': 0.25,\n",
              "         'techniques': 0.25,\n",
              "         'tackle': 0.25,\n",
              "         'complex': 0.25,\n",
              "         'challenges': 0.25,\n",
              "         'domains': 0.25,\n",
              "         'artificial': 0.25,\n",
              "         'intelligence': 0.25,\n",
              "         'machine': 0.25,\n",
              "         'learning': 0.25,\n",
              "         'cybersecurity': 0.25,\n",
              "         'robotics': 0.25,\n",
              "         'plays': 0.25,\n",
              "         'pivotal': 0.25,\n",
              "         'role': 0.25,\n",
              "         'shaping': 0.25,\n",
              "         'modern': 0.25,\n",
              "         'world': 0.25,\n",
              "         'interdisciplinary': 0.25,\n",
              "         'nature': 0.25,\n",
              "         'fosters': 0.25,\n",
              "         'collaboration': 0.25,\n",
              "         'disciplines': 0.25,\n",
              "         'driving': 0.25,\n",
              "         'advancements': 0.25,\n",
              "         'fields': 0.25,\n",
              "         'like': 0.25,\n",
              "         'healthcare': 0.25,\n",
              "         'finance': 0.25,\n",
              "         'entertainment': 0.25,\n",
              "         'society': 0.25,\n",
              "         'increasingly': 0.25,\n",
              "         'relies': 0.25,\n",
              "         'technology': 0.25,\n",
              "         'scientists': 0.25,\n",
              "         'continue': 0.25,\n",
              "         'push': 0.25,\n",
              "         'boundaries': 0.25,\n",
              "         'creating': 0.25,\n",
              "         'new': 0.25,\n",
              "         'opportunities': 0.25,\n",
              "         'addressing': 0.25,\n",
              "         'emerging': 0.25,\n",
              "         'issues': 0.25,\n",
              "         'shape': 0.25,\n",
              "         'connected': 0.25,\n",
              "         'efficient': 0.25,\n",
              "         'future': 0.25})"
            ]
          },
          "execution_count": 19,
          "metadata": {},
          "output_type": "execute_result"
        }
      ],
      "source": [
        "word_freq"
      ]
    },
    {
      "cell_type": "code",
      "execution_count": null,
      "metadata": {
        "id": "IUCTmzlSIF3R"
      },
      "outputs": [],
      "source": [
        "sent_token = [sent.text for sent in doc.sents]"
      ]
    },
    {
      "cell_type": "code",
      "execution_count": null,
      "metadata": {
        "colab": {
          "base_uri": "https://localhost:8080/"
        },
        "id": "2xNhOcC9JZ7E",
        "outputId": "92b3b936-8b0a-4cb8-b0e7-d6ea38586558"
      },
      "outputs": [
        {
          "data": {
            "text/plain": [
              "['Computer science is a dynamic field at the forefront of technological innovation and problem-solving.',\n",
              " 'It encompasses the study of algorithms, data structures, programming languages, and the theoretical foundations of computing.',\n",
              " 'With roots in mathematics and engineering, computer science explores the design, development, and application of software systems and computational techniques to tackle complex challenges across various domains.',\n",
              " 'From artificial intelligence and machine learning to cybersecurity and robotics, computer science plays a pivotal role in shaping the modern world.',\n",
              " 'Its interdisciplinary nature fosters collaboration with other disciplines, driving advancements in fields like healthcare, finance, and entertainment.',\n",
              " 'As society increasingly relies on technology, computer scientists continue to push boundaries, creating new opportunities and addressing emerging issues to shape a more connected and efficient future.']"
            ]
          },
          "execution_count": 21,
          "metadata": {},
          "output_type": "execute_result"
        }
      ],
      "source": [
        "sent_token"
      ]
    },
    {
      "cell_type": "code",
      "execution_count": null,
      "metadata": {
        "colab": {
          "base_uri": "https://localhost:8080/"
        },
        "id": "9Ifnrlv0JbfJ",
        "outputId": "d716e121-ba75-4b51-f40c-75eb6248d023"
      },
      "outputs": [
        {
          "name": "stdout",
          "output_type": "stream",
          "text": [
            "Computer\n",
            "science\n",
            "is\n",
            "a\n",
            "dynamic\n",
            "field\n",
            "at\n",
            "the\n",
            "forefront\n",
            "of\n",
            "technological\n",
            "innovation\n",
            "and\n",
            "problem-solving.\n",
            "It\n",
            "encompasses\n",
            "the\n",
            "study\n",
            "of\n",
            "algorithms,\n",
            "data\n",
            "structures,\n",
            "programming\n",
            "languages,\n",
            "and\n",
            "the\n",
            "theoretical\n",
            "foundations\n",
            "of\n",
            "computing.\n",
            "With\n",
            "roots\n",
            "in\n",
            "mathematics\n",
            "and\n",
            "engineering,\n",
            "computer\n",
            "science\n",
            "explores\n",
            "the\n",
            "design,\n",
            "development,\n",
            "and\n",
            "application\n",
            "of\n",
            "software\n",
            "systems\n",
            "and\n",
            "computational\n",
            "techniques\n",
            "to\n",
            "tackle\n",
            "complex\n",
            "challenges\n",
            "across\n",
            "various\n",
            "domains.\n",
            "From\n",
            "artificial\n",
            "intelligence\n",
            "and\n",
            "machine\n",
            "learning\n",
            "to\n",
            "cybersecurity\n",
            "and\n",
            "robotics,\n",
            "computer\n",
            "science\n",
            "plays\n",
            "a\n",
            "pivotal\n",
            "role\n",
            "in\n",
            "shaping\n",
            "the\n",
            "modern\n",
            "world.\n",
            "Its\n",
            "interdisciplinary\n",
            "nature\n",
            "fosters\n",
            "collaboration\n",
            "with\n",
            "other\n",
            "disciplines,\n",
            "driving\n",
            "advancements\n",
            "in\n",
            "fields\n",
            "like\n",
            "healthcare,\n",
            "finance,\n",
            "and\n",
            "entertainment.\n",
            "As\n",
            "society\n",
            "increasingly\n",
            "relies\n",
            "on\n",
            "technology,\n",
            "computer\n",
            "scientists\n",
            "continue\n",
            "to\n",
            "push\n",
            "boundaries,\n",
            "creating\n",
            "new\n",
            "opportunities\n",
            "and\n",
            "addressing\n",
            "emerging\n",
            "issues\n",
            "to\n",
            "shape\n",
            "a\n",
            "more\n",
            "connected\n",
            "and\n",
            "efficient\n",
            "future.\n"
          ]
        }
      ],
      "source": [
        "sent_score = {}\n",
        "for sent in sent_token:\n",
        "  for word in sent.split():\n",
        "    if word.lower() in word_freq.keys():\n",
        "      if sent not in sent_score.keys():\n",
        "        sent_score[sent] = word_freq[word]\n",
        "      else:\n",
        "        sent_score[sent] += word_freq[word]\n",
        "    print(word)"
      ]
    },
    {
      "cell_type": "code",
      "execution_count": null,
      "metadata": {
        "colab": {
          "base_uri": "https://localhost:8080/"
        },
        "id": "N0-yGKZ_KfGe",
        "outputId": "453d5766-5875-434f-c28b-5d4a380890c1"
      },
      "outputs": [
        {
          "data": {
            "text/plain": [
              "{'Computer science is a dynamic field at the forefront of technological innovation and problem-solving.': 2.0,\n",
              " 'It encompasses the study of algorithms, data structures, programming languages, and the theoretical foundations of computing.': 1.5,\n",
              " 'With roots in mathematics and engineering, computer science explores the design, development, and application of software systems and computational techniques to tackle complex challenges across various domains.': 4.5,\n",
              " 'From artificial intelligence and machine learning to cybersecurity and robotics, computer science plays a pivotal role in shaping the modern world.': 4.25,\n",
              " 'Its interdisciplinary nature fosters collaboration with other disciplines, driving advancements in fields like healthcare, finance, and entertainment.': 2.0,\n",
              " 'As society increasingly relies on technology, computer scientists continue to push boundaries, creating new opportunities and addressing emerging issues to shape a more connected and efficient future.': 4.75}"
            ]
          },
          "execution_count": 23,
          "metadata": {},
          "output_type": "execute_result"
        }
      ],
      "source": [
        "sent_score"
      ]
    },
    {
      "cell_type": "code",
      "execution_count": null,
      "metadata": {
        "id": "OxZfp2QHKt_w"
      },
      "outputs": [],
      "source": [
        "import pandas as pd"
      ]
    },
    {
      "cell_type": "code",
      "execution_count": null,
      "metadata": {
        "colab": {
          "base_uri": "https://localhost:8080/",
          "height": 237
        },
        "id": "zY0wL-F5Kx8O",
        "outputId": "5b7445da-aa86-4270-f1ff-c5d98439fb13"
      },
      "outputs": [
        {
          "data": {
            "application/vnd.google.colaboratory.intrinsic+json": {
              "summary": "{\n  \"name\": \"pd\",\n  \"rows\": 6,\n  \"fields\": [\n    {\n      \"column\": \"Sentence\",\n      \"properties\": {\n        \"dtype\": \"string\",\n        \"num_unique_values\": 6,\n        \"samples\": [\n          \"Computer science is a dynamic field at the forefront of technological innovation and problem-solving.\",\n          \"It encompasses the study of algorithms, data structures, programming languages, and the theoretical foundations of computing.\",\n          \"As society increasingly relies on technology, computer scientists continue to push boundaries, creating new opportunities and addressing emerging issues to shape a more connected and efficient future.\"\n        ],\n        \"semantic_type\": \"\",\n        \"description\": \"\"\n      }\n    },\n    {\n      \"column\": \"Score\",\n      \"properties\": {\n        \"dtype\": \"number\",\n        \"std\": 1.4804278660801635,\n        \"min\": 1.5,\n        \"max\": 4.75,\n        \"num_unique_values\": 5,\n        \"samples\": [\n          1.5,\n          4.75,\n          4.5\n        ],\n        \"semantic_type\": \"\",\n        \"description\": \"\"\n      }\n    }\n  ]\n}",
              "type": "dataframe"
            },
            "text/html": [
              "\n",
              "  <div id=\"df-cc489e54-f7ed-413c-b233-3eb149d6ca6f\" class=\"colab-df-container\">\n",
              "    <div>\n",
              "<style scoped>\n",
              "    .dataframe tbody tr th:only-of-type {\n",
              "        vertical-align: middle;\n",
              "    }\n",
              "\n",
              "    .dataframe tbody tr th {\n",
              "        vertical-align: top;\n",
              "    }\n",
              "\n",
              "    .dataframe thead th {\n",
              "        text-align: right;\n",
              "    }\n",
              "</style>\n",
              "<table border=\"1\" class=\"dataframe\">\n",
              "  <thead>\n",
              "    <tr style=\"text-align: right;\">\n",
              "      <th></th>\n",
              "      <th>Sentence</th>\n",
              "      <th>Score</th>\n",
              "    </tr>\n",
              "  </thead>\n",
              "  <tbody>\n",
              "    <tr>\n",
              "      <th>0</th>\n",
              "      <td>Computer science is a dynamic field at the for...</td>\n",
              "      <td>2.00</td>\n",
              "    </tr>\n",
              "    <tr>\n",
              "      <th>1</th>\n",
              "      <td>It encompasses the study of algorithms, data s...</td>\n",
              "      <td>1.50</td>\n",
              "    </tr>\n",
              "    <tr>\n",
              "      <th>2</th>\n",
              "      <td>With roots in mathematics and engineering, com...</td>\n",
              "      <td>4.50</td>\n",
              "    </tr>\n",
              "    <tr>\n",
              "      <th>3</th>\n",
              "      <td>From artificial intelligence and machine learn...</td>\n",
              "      <td>4.25</td>\n",
              "    </tr>\n",
              "    <tr>\n",
              "      <th>4</th>\n",
              "      <td>Its interdisciplinary nature fosters collabora...</td>\n",
              "      <td>2.00</td>\n",
              "    </tr>\n",
              "    <tr>\n",
              "      <th>5</th>\n",
              "      <td>As society increasingly relies on technology, ...</td>\n",
              "      <td>4.75</td>\n",
              "    </tr>\n",
              "  </tbody>\n",
              "</table>\n",
              "</div>\n",
              "    <div class=\"colab-df-buttons\">\n",
              "\n",
              "  <div class=\"colab-df-container\">\n",
              "    <button class=\"colab-df-convert\" onclick=\"convertToInteractive('df-cc489e54-f7ed-413c-b233-3eb149d6ca6f')\"\n",
              "            title=\"Convert this dataframe to an interactive table.\"\n",
              "            style=\"display:none;\">\n",
              "\n",
              "  <svg xmlns=\"http://www.w3.org/2000/svg\" height=\"24px\" viewBox=\"0 -960 960 960\">\n",
              "    <path d=\"M120-120v-720h720v720H120Zm60-500h600v-160H180v160Zm220 220h160v-160H400v160Zm0 220h160v-160H400v160ZM180-400h160v-160H180v160Zm440 0h160v-160H620v160ZM180-180h160v-160H180v160Zm440 0h160v-160H620v160Z\"/>\n",
              "  </svg>\n",
              "    </button>\n",
              "\n",
              "  <style>\n",
              "    .colab-df-container {\n",
              "      display:flex;\n",
              "      gap: 12px;\n",
              "    }\n",
              "\n",
              "    .colab-df-convert {\n",
              "      background-color: #E8F0FE;\n",
              "      border: none;\n",
              "      border-radius: 50%;\n",
              "      cursor: pointer;\n",
              "      display: none;\n",
              "      fill: #1967D2;\n",
              "      height: 32px;\n",
              "      padding: 0 0 0 0;\n",
              "      width: 32px;\n",
              "    }\n",
              "\n",
              "    .colab-df-convert:hover {\n",
              "      background-color: #E2EBFA;\n",
              "      box-shadow: 0px 1px 2px rgba(60, 64, 67, 0.3), 0px 1px 3px 1px rgba(60, 64, 67, 0.15);\n",
              "      fill: #174EA6;\n",
              "    }\n",
              "\n",
              "    .colab-df-buttons div {\n",
              "      margin-bottom: 4px;\n",
              "    }\n",
              "\n",
              "    [theme=dark] .colab-df-convert {\n",
              "      background-color: #3B4455;\n",
              "      fill: #D2E3FC;\n",
              "    }\n",
              "\n",
              "    [theme=dark] .colab-df-convert:hover {\n",
              "      background-color: #434B5C;\n",
              "      box-shadow: 0px 1px 3px 1px rgba(0, 0, 0, 0.15);\n",
              "      filter: drop-shadow(0px 1px 2px rgba(0, 0, 0, 0.3));\n",
              "      fill: #FFFFFF;\n",
              "    }\n",
              "  </style>\n",
              "\n",
              "    <script>\n",
              "      const buttonEl =\n",
              "        document.querySelector('#df-cc489e54-f7ed-413c-b233-3eb149d6ca6f button.colab-df-convert');\n",
              "      buttonEl.style.display =\n",
              "        google.colab.kernel.accessAllowed ? 'block' : 'none';\n",
              "\n",
              "      async function convertToInteractive(key) {\n",
              "        const element = document.querySelector('#df-cc489e54-f7ed-413c-b233-3eb149d6ca6f');\n",
              "        const dataTable =\n",
              "          await google.colab.kernel.invokeFunction('convertToInteractive',\n",
              "                                                    [key], {});\n",
              "        if (!dataTable) return;\n",
              "\n",
              "        const docLinkHtml = 'Like what you see? Visit the ' +\n",
              "          '<a target=\"_blank\" href=https://colab.research.google.com/notebooks/data_table.ipynb>data table notebook</a>'\n",
              "          + ' to learn more about interactive tables.';\n",
              "        element.innerHTML = '';\n",
              "        dataTable['output_type'] = 'display_data';\n",
              "        await google.colab.output.renderOutput(dataTable, element);\n",
              "        const docLink = document.createElement('div');\n",
              "        docLink.innerHTML = docLinkHtml;\n",
              "        element.appendChild(docLink);\n",
              "      }\n",
              "    </script>\n",
              "  </div>\n",
              "\n",
              "\n",
              "<div id=\"df-0c07fcc1-2be4-498c-a85d-1aa8a1cac860\">\n",
              "  <button class=\"colab-df-quickchart\" onclick=\"quickchart('df-0c07fcc1-2be4-498c-a85d-1aa8a1cac860')\"\n",
              "            title=\"Suggest charts\"\n",
              "            style=\"display:none;\">\n",
              "\n",
              "<svg xmlns=\"http://www.w3.org/2000/svg\" height=\"24px\"viewBox=\"0 0 24 24\"\n",
              "     width=\"24px\">\n",
              "    <g>\n",
              "        <path d=\"M19 3H5c-1.1 0-2 .9-2 2v14c0 1.1.9 2 2 2h14c1.1 0 2-.9 2-2V5c0-1.1-.9-2-2-2zM9 17H7v-7h2v7zm4 0h-2V7h2v10zm4 0h-2v-4h2v4z\"/>\n",
              "    </g>\n",
              "</svg>\n",
              "  </button>\n",
              "\n",
              "<style>\n",
              "  .colab-df-quickchart {\n",
              "      --bg-color: #E8F0FE;\n",
              "      --fill-color: #1967D2;\n",
              "      --hover-bg-color: #E2EBFA;\n",
              "      --hover-fill-color: #174EA6;\n",
              "      --disabled-fill-color: #AAA;\n",
              "      --disabled-bg-color: #DDD;\n",
              "  }\n",
              "\n",
              "  [theme=dark] .colab-df-quickchart {\n",
              "      --bg-color: #3B4455;\n",
              "      --fill-color: #D2E3FC;\n",
              "      --hover-bg-color: #434B5C;\n",
              "      --hover-fill-color: #FFFFFF;\n",
              "      --disabled-bg-color: #3B4455;\n",
              "      --disabled-fill-color: #666;\n",
              "  }\n",
              "\n",
              "  .colab-df-quickchart {\n",
              "    background-color: var(--bg-color);\n",
              "    border: none;\n",
              "    border-radius: 50%;\n",
              "    cursor: pointer;\n",
              "    display: none;\n",
              "    fill: var(--fill-color);\n",
              "    height: 32px;\n",
              "    padding: 0;\n",
              "    width: 32px;\n",
              "  }\n",
              "\n",
              "  .colab-df-quickchart:hover {\n",
              "    background-color: var(--hover-bg-color);\n",
              "    box-shadow: 0 1px 2px rgba(60, 64, 67, 0.3), 0 1px 3px 1px rgba(60, 64, 67, 0.15);\n",
              "    fill: var(--button-hover-fill-color);\n",
              "  }\n",
              "\n",
              "  .colab-df-quickchart-complete:disabled,\n",
              "  .colab-df-quickchart-complete:disabled:hover {\n",
              "    background-color: var(--disabled-bg-color);\n",
              "    fill: var(--disabled-fill-color);\n",
              "    box-shadow: none;\n",
              "  }\n",
              "\n",
              "  .colab-df-spinner {\n",
              "    border: 2px solid var(--fill-color);\n",
              "    border-color: transparent;\n",
              "    border-bottom-color: var(--fill-color);\n",
              "    animation:\n",
              "      spin 1s steps(1) infinite;\n",
              "  }\n",
              "\n",
              "  @keyframes spin {\n",
              "    0% {\n",
              "      border-color: transparent;\n",
              "      border-bottom-color: var(--fill-color);\n",
              "      border-left-color: var(--fill-color);\n",
              "    }\n",
              "    20% {\n",
              "      border-color: transparent;\n",
              "      border-left-color: var(--fill-color);\n",
              "      border-top-color: var(--fill-color);\n",
              "    }\n",
              "    30% {\n",
              "      border-color: transparent;\n",
              "      border-left-color: var(--fill-color);\n",
              "      border-top-color: var(--fill-color);\n",
              "      border-right-color: var(--fill-color);\n",
              "    }\n",
              "    40% {\n",
              "      border-color: transparent;\n",
              "      border-right-color: var(--fill-color);\n",
              "      border-top-color: var(--fill-color);\n",
              "    }\n",
              "    60% {\n",
              "      border-color: transparent;\n",
              "      border-right-color: var(--fill-color);\n",
              "    }\n",
              "    80% {\n",
              "      border-color: transparent;\n",
              "      border-right-color: var(--fill-color);\n",
              "      border-bottom-color: var(--fill-color);\n",
              "    }\n",
              "    90% {\n",
              "      border-color: transparent;\n",
              "      border-bottom-color: var(--fill-color);\n",
              "    }\n",
              "  }\n",
              "</style>\n",
              "\n",
              "  <script>\n",
              "    async function quickchart(key) {\n",
              "      const quickchartButtonEl =\n",
              "        document.querySelector('#' + key + ' button');\n",
              "      quickchartButtonEl.disabled = true;  // To prevent multiple clicks.\n",
              "      quickchartButtonEl.classList.add('colab-df-spinner');\n",
              "      try {\n",
              "        const charts = await google.colab.kernel.invokeFunction(\n",
              "            'suggestCharts', [key], {});\n",
              "      } catch (error) {\n",
              "        console.error('Error during call to suggestCharts:', error);\n",
              "      }\n",
              "      quickchartButtonEl.classList.remove('colab-df-spinner');\n",
              "      quickchartButtonEl.classList.add('colab-df-quickchart-complete');\n",
              "    }\n",
              "    (() => {\n",
              "      let quickchartButtonEl =\n",
              "        document.querySelector('#df-0c07fcc1-2be4-498c-a85d-1aa8a1cac860 button');\n",
              "      quickchartButtonEl.style.display =\n",
              "        google.colab.kernel.accessAllowed ? 'block' : 'none';\n",
              "    })();\n",
              "  </script>\n",
              "</div>\n",
              "\n",
              "    </div>\n",
              "  </div>\n"
            ],
            "text/plain": [
              "                                            Sentence  Score\n",
              "0  Computer science is a dynamic field at the for...   2.00\n",
              "1  It encompasses the study of algorithms, data s...   1.50\n",
              "2  With roots in mathematics and engineering, com...   4.50\n",
              "3  From artificial intelligence and machine learn...   4.25\n",
              "4  Its interdisciplinary nature fosters collabora...   2.00\n",
              "5  As society increasingly relies on technology, ...   4.75"
            ]
          },
          "execution_count": 25,
          "metadata": {},
          "output_type": "execute_result"
        }
      ],
      "source": [
        "pd.DataFrame(list(sent_score.items()),columns=['Sentence','Score'])"
      ]
    },
    {
      "cell_type": "code",
      "execution_count": null,
      "metadata": {
        "id": "lD0QpByXLFqE"
      },
      "outputs": [],
      "source": [
        "from heapq import nlargest"
      ]
    },
    {
      "cell_type": "code",
      "execution_count": null,
      "metadata": {
        "id": "xjUKZkXkLTig"
      },
      "outputs": [],
      "source": [
        "num_sentences = 3\n",
        "n = nlargest(num_sentences,sent_score,key=sent_score.get)"
      ]
    },
    {
      "cell_type": "code",
      "execution_count": null,
      "metadata": {
        "colab": {
          "base_uri": "https://localhost:8080/"
        },
        "id": "jDWNs7yMLzGy",
        "outputId": "b8931522-2c65-445f-c4c1-1cf0d8aa3055"
      },
      "outputs": [
        {
          "data": {
            "text/plain": [
              "['As society increasingly relies on technology, computer scientists continue to push boundaries, creating new opportunities and addressing emerging issues to shape a more connected and efficient future.',\n",
              " 'With roots in mathematics and engineering, computer science explores the design, development, and application of software systems and computational techniques to tackle complex challenges across various domains.',\n",
              " 'From artificial intelligence and machine learning to cybersecurity and robotics, computer science plays a pivotal role in shaping the modern world.']"
            ]
          },
          "execution_count": 31,
          "metadata": {},
          "output_type": "execute_result"
        }
      ],
      "source": [
        "n"
      ]
    },
    {
      "cell_type": "code",
      "execution_count": null,
      "metadata": {
        "colab": {
          "base_uri": "https://localhost:8080/",
          "height": 87
        },
        "id": "nH8RzMPqLiW3",
        "outputId": "484dedfd-70c2-4d73-f5c0-3cfc5f2e7d5a"
      },
      "outputs": [
        {
          "data": {
            "application/vnd.google.colaboratory.intrinsic+json": {
              "type": "string"
            },
            "text/plain": [
              "'As society increasingly relies on technology, computer scientists continue to push boundaries, creating new opportunities and addressing emerging issues to shape a more connected and efficient future. With roots in mathematics and engineering, computer science explores the design, development, and application of software systems and computational techniques to tackle complex challenges across various domains. From artificial intelligence and machine learning to cybersecurity and robotics, computer science plays a pivotal role in shaping the modern world.'"
            ]
          },
          "execution_count": 30,
          "metadata": {},
          "output_type": "execute_result"
        }
      ],
      "source": [
        "\" \".join(n)"
      ]
    },
    {
      "cell_type": "code",
      "execution_count": null,
      "metadata": {
        "id": "Q90A75BXLu_i"
      },
      "outputs": [],
      "source": [
        "from transformers import pipeline"
      ]
    },
    {
      "cell_type": "code",
      "execution_count": null,
      "metadata": {
        "colab": {
          "base_uri": "https://localhost:8080/",
          "height": 145,
          "referenced_widgets": [
            "2e7020e630214e2db6e92eed0e219742",
            "7b4567d889e14958af8e67fcc9f951e0",
            "604b1c59630a479b8214fd729f00fb9c",
            "6345803b5d7b45319aabeafceb66f63b",
            "81f8a2f3108b45268d58554d2206d7e2",
            "adb4df696f4246eea118e0c170f83a9a",
            "34c02d6bfed547c18983cea96f6952e1",
            "36dba99b43c5467eabe3c4cadcca675e",
            "c6a1a542fc714378a7c971551c2fc979",
            "ec56049abfb746c696551dcabbcc758c",
            "e14a68491cfc4dc8a1073869be3909c3",
            "99900abc504d405e82ce34ec41e0227b",
            "2d67827d80b94153b3d11bf952150c71",
            "c48b801681df49c1b1e30374f5e0ebef",
            "4e253ef151a84c099e41888488dec92d",
            "d92db441fe3d4b98a301937435dffd32",
            "406de9915d9c4e0f9b65059fbce14c4b",
            "2d35ad5c57374c1e9bb6c03888966a93",
            "95b1fdd1b4ec49099a8d968b56364d03",
            "b8615cd5e8a3494b877932bb1d6d62d9",
            "f7bb5eddf24a45709a87afffae668262",
            "a5f807b31fff48e2b4f97b8bfd2bc780",
            "9a1600a7a3bc4f1b871a2a3de8f64c3a",
            "3eb01cf7819445e288ffbe94135e158e",
            "7ae34b45997345c2b9ea3980a35f7156",
            "a7d53676f68f44c8ad178d1ee2b56816",
            "08ed7f8546914ba296c07daeb7847b0b",
            "f1a23c0d6fbf48aab5b372c2a0b3aeb7",
            "a2369f91041348caab6511cc59b78d0a",
            "4b1cf05d458a40dbb197dd1d32d9fc94",
            "4848b12d2d1e4736946290a41fe50b23",
            "2873ca09a555484ab4979bea7b2b4861",
            "2b6e5a6ad611483681e13c194ef4656e",
            "73cc84b77a144829932a1dfe126312c8",
            "43b468bc2dc84b0981f102201ce99260",
            "6d4d01185593418faeccbf3d2b1fbe1f",
            "86addd4037f543f585458108d5608082",
            "9bd28ca489ae4ac2a044b5057df11acb",
            "2c43b3c6744744c09560d0d7de3e0612",
            "d3cc65bd350d460eae803f53d83c8e97",
            "578303dfad504ea98cea445dfe0cedbd",
            "5c76a771e59b4f9aa81ec043b6c6231b",
            "af00afa0563944ceaee37478c121a663",
            "832c5afa981f48ec93c8d7835ca64a8c"
          ]
        },
        "id": "9m8G6CoyMYa0",
        "outputId": "5d6550c3-68aa-4dad-e56f-ca2e11aefbda"
      },
      "outputs": [
        {
          "data": {
            "application/vnd.jupyter.widget-view+json": {
              "model_id": "2e7020e630214e2db6e92eed0e219742",
              "version_major": 2,
              "version_minor": 0
            },
            "text/plain": [
              "model.safetensors:   0%|          | 0.00/892M [00:00<?, ?B/s]"
            ]
          },
          "metadata": {},
          "output_type": "display_data"
        },
        {
          "data": {
            "application/vnd.jupyter.widget-view+json": {
              "model_id": "99900abc504d405e82ce34ec41e0227b",
              "version_major": 2,
              "version_minor": 0
            },
            "text/plain": [
              "generation_config.json:   0%|          | 0.00/147 [00:00<?, ?B/s]"
            ]
          },
          "metadata": {},
          "output_type": "display_data"
        },
        {
          "data": {
            "application/vnd.jupyter.widget-view+json": {
              "model_id": "9a1600a7a3bc4f1b871a2a3de8f64c3a",
              "version_major": 2,
              "version_minor": 0
            },
            "text/plain": [
              "spiece.model:   0%|          | 0.00/792k [00:00<?, ?B/s]"
            ]
          },
          "metadata": {},
          "output_type": "display_data"
        },
        {
          "data": {
            "application/vnd.jupyter.widget-view+json": {
              "model_id": "73cc84b77a144829932a1dfe126312c8",
              "version_major": 2,
              "version_minor": 0
            },
            "text/plain": [
              "tokenizer.json:   0%|          | 0.00/1.39M [00:00<?, ?B/s]"
            ]
          },
          "metadata": {},
          "output_type": "display_data"
        }
      ],
      "source": [
        "summarizer = pipeline(\"summarization\",model='t5-base',tokenizer='t5-base',framework='pt')"
      ]
    },
    {
      "cell_type": "code",
      "execution_count": null,
      "metadata": {
        "id": "bpKog616MzIz"
      },
      "outputs": [],
      "source": [
        "summary = summarizer(text,max_length=100,min_length=10,do_sample=False)"
      ]
    },
    {
      "cell_type": "code",
      "execution_count": null,
      "metadata": {
        "colab": {
          "base_uri": "https://localhost:8080/"
        },
        "id": "59WrHp4zN4fs",
        "outputId": "20810c00-6a18-46c1-c7ba-1f500b22ae4d"
      },
      "outputs": [
        {
          "data": {
            "text/plain": [
              "[{'summary_text': 'computer science is a dynamic field at the forefront of technological innovation and problem-solving . it encompasses the study of algorithms, data structures, programming languages, and the theoretical foundations of computing . computer science plays a pivotal role in shaping the modern world .'}]"
            ]
          },
          "execution_count": 41,
          "metadata": {},
          "output_type": "execute_result"
        }
      ],
      "source": [
        "summary"
      ]
    },
    {
      "cell_type": "code",
      "execution_count": null,
      "metadata": {
        "colab": {
          "base_uri": "https://localhost:8080/"
        },
        "id": "c_A7IOIPOCcu",
        "outputId": "4cd27934-2e2e-470d-d9da-188682a746d7"
      },
      "outputs": [
        {
          "name": "stdout",
          "output_type": "stream",
          "text": [
            "computer science is a dynamic field at the forefront of technological innovation and problem-solving . it encompasses the study of algorithms, data structures, programming languages, and the theoretical foundations of computing . computer science plays a pivotal role in shaping the modern world .\n"
          ]
        }
      ],
      "source": [
        "\n",
        "print(summary[0]['summary_text'])"
      ]
    },
    {
      "cell_type": "code",
      "execution_count": 7,
      "metadata": {
        "id": "4MRwLFuWQ19W"
      },
      "outputs": [
        {
          "name": "stdout",
          "output_type": "stream",
          "text": [
            " * Serving Flask app '__main__'\n",
            " * Debug mode: on\n"
          ]
        },
        {
          "name": "stderr",
          "output_type": "stream",
          "text": [
            "WARNING: This is a development server. Do not use it in a production deployment. Use a production WSGI server instead.\n",
            " * Running on http://127.0.0.1:8081\n",
            "Press CTRL+C to quit\n",
            " * Restarting with stat\n"
          ]
        },
        {
          "ename": "SystemExit",
          "evalue": "1",
          "output_type": "error",
          "traceback": [
            "An exception has occurred, use %tb to see the full traceback.\n",
            "\u001b[1;31mSystemExit\u001b[0m\u001b[1;31m:\u001b[0m 1\n"
          ]
        }
      ],
      "source": [
        "from flask import Flask\n",
        "\n",
        "skills_app = Flask(__name__)\n",
        "\n",
        "@skills_app.route('/')\n",
        "def home():\n",
        "    return 'Welcome to the Skills App!'\n",
        "\n",
        "if __name__ == \"__main__\":\n",
        "    skills_app.run(debug=True, port=8081)\n"
      ]
    },
    {
      "cell_type": "code",
      "execution_count": null,
      "metadata": {},
      "outputs": [],
      "source": []
    },
    {
      "cell_type": "code",
      "execution_count": null,
      "metadata": {},
      "outputs": [],
      "source": []
    },
    {
      "cell_type": "code",
      "execution_count": null,
      "metadata": {},
      "outputs": [],
      "source": []
    },
    {
      "cell_type": "code",
      "execution_count": null,
      "metadata": {},
      "outputs": [],
      "source": []
    },
    {
      "cell_type": "code",
      "execution_count": null,
      "metadata": {},
      "outputs": [],
      "source": []
    },
    {
      "cell_type": "code",
      "execution_count": null,
      "metadata": {},
      "outputs": [],
      "source": []
    },
    {
      "cell_type": "code",
      "execution_count": null,
      "metadata": {},
      "outputs": [],
      "source": []
    }
  ],
  "metadata": {
    "colab": {
      "provenance": []
    },
    "kernelspec": {
      "display_name": "Python 3",
      "name": "python3"
    },
    "language_info": {
      "codemirror_mode": {
        "name": "ipython",
        "version": 3
      },
      "file_extension": ".py",
      "mimetype": "text/x-python",
      "name": "python",
      "nbconvert_exporter": "python",
      "pygments_lexer": "ipython3",
      "version": "3.12.0"
    },
    "widgets": {
      "application/vnd.jupyter.widget-state+json": {
        "08ed7f8546914ba296c07daeb7847b0b": {
          "model_module": "@jupyter-widgets/base",
          "model_module_version": "1.2.0",
          "model_name": "LayoutModel",
          "state": {
            "_model_module": "@jupyter-widgets/base",
            "_model_module_version": "1.2.0",
            "_model_name": "LayoutModel",
            "_view_count": null,
            "_view_module": "@jupyter-widgets/base",
            "_view_module_version": "1.2.0",
            "_view_name": "LayoutView",
            "align_content": null,
            "align_items": null,
            "align_self": null,
            "border": null,
            "bottom": null,
            "display": null,
            "flex": null,
            "flex_flow": null,
            "grid_area": null,
            "grid_auto_columns": null,
            "grid_auto_flow": null,
            "grid_auto_rows": null,
            "grid_column": null,
            "grid_gap": null,
            "grid_row": null,
            "grid_template_areas": null,
            "grid_template_columns": null,
            "grid_template_rows": null,
            "height": null,
            "justify_content": null,
            "justify_items": null,
            "left": null,
            "margin": null,
            "max_height": null,
            "max_width": null,
            "min_height": null,
            "min_width": null,
            "object_fit": null,
            "object_position": null,
            "order": null,
            "overflow": null,
            "overflow_x": null,
            "overflow_y": null,
            "padding": null,
            "right": null,
            "top": null,
            "visibility": null,
            "width": null
          }
        },
        "2873ca09a555484ab4979bea7b2b4861": {
          "model_module": "@jupyter-widgets/base",
          "model_module_version": "1.2.0",
          "model_name": "LayoutModel",
          "state": {
            "_model_module": "@jupyter-widgets/base",
            "_model_module_version": "1.2.0",
            "_model_name": "LayoutModel",
            "_view_count": null,
            "_view_module": "@jupyter-widgets/base",
            "_view_module_version": "1.2.0",
            "_view_name": "LayoutView",
            "align_content": null,
            "align_items": null,
            "align_self": null,
            "border": null,
            "bottom": null,
            "display": null,
            "flex": null,
            "flex_flow": null,
            "grid_area": null,
            "grid_auto_columns": null,
            "grid_auto_flow": null,
            "grid_auto_rows": null,
            "grid_column": null,
            "grid_gap": null,
            "grid_row": null,
            "grid_template_areas": null,
            "grid_template_columns": null,
            "grid_template_rows": null,
            "height": null,
            "justify_content": null,
            "justify_items": null,
            "left": null,
            "margin": null,
            "max_height": null,
            "max_width": null,
            "min_height": null,
            "min_width": null,
            "object_fit": null,
            "object_position": null,
            "order": null,
            "overflow": null,
            "overflow_x": null,
            "overflow_y": null,
            "padding": null,
            "right": null,
            "top": null,
            "visibility": null,
            "width": null
          }
        },
        "2b6e5a6ad611483681e13c194ef4656e": {
          "model_module": "@jupyter-widgets/controls",
          "model_module_version": "1.5.0",
          "model_name": "DescriptionStyleModel",
          "state": {
            "_model_module": "@jupyter-widgets/controls",
            "_model_module_version": "1.5.0",
            "_model_name": "DescriptionStyleModel",
            "_view_count": null,
            "_view_module": "@jupyter-widgets/base",
            "_view_module_version": "1.2.0",
            "_view_name": "StyleView",
            "description_width": ""
          }
        },
        "2c43b3c6744744c09560d0d7de3e0612": {
          "model_module": "@jupyter-widgets/base",
          "model_module_version": "1.2.0",
          "model_name": "LayoutModel",
          "state": {
            "_model_module": "@jupyter-widgets/base",
            "_model_module_version": "1.2.0",
            "_model_name": "LayoutModel",
            "_view_count": null,
            "_view_module": "@jupyter-widgets/base",
            "_view_module_version": "1.2.0",
            "_view_name": "LayoutView",
            "align_content": null,
            "align_items": null,
            "align_self": null,
            "border": null,
            "bottom": null,
            "display": null,
            "flex": null,
            "flex_flow": null,
            "grid_area": null,
            "grid_auto_columns": null,
            "grid_auto_flow": null,
            "grid_auto_rows": null,
            "grid_column": null,
            "grid_gap": null,
            "grid_row": null,
            "grid_template_areas": null,
            "grid_template_columns": null,
            "grid_template_rows": null,
            "height": null,
            "justify_content": null,
            "justify_items": null,
            "left": null,
            "margin": null,
            "max_height": null,
            "max_width": null,
            "min_height": null,
            "min_width": null,
            "object_fit": null,
            "object_position": null,
            "order": null,
            "overflow": null,
            "overflow_x": null,
            "overflow_y": null,
            "padding": null,
            "right": null,
            "top": null,
            "visibility": null,
            "width": null
          }
        },
        "2d35ad5c57374c1e9bb6c03888966a93": {
          "model_module": "@jupyter-widgets/controls",
          "model_module_version": "1.5.0",
          "model_name": "DescriptionStyleModel",
          "state": {
            "_model_module": "@jupyter-widgets/controls",
            "_model_module_version": "1.5.0",
            "_model_name": "DescriptionStyleModel",
            "_view_count": null,
            "_view_module": "@jupyter-widgets/base",
            "_view_module_version": "1.2.0",
            "_view_name": "StyleView",
            "description_width": ""
          }
        },
        "2d67827d80b94153b3d11bf952150c71": {
          "model_module": "@jupyter-widgets/controls",
          "model_module_version": "1.5.0",
          "model_name": "HTMLModel",
          "state": {
            "_dom_classes": [],
            "_model_module": "@jupyter-widgets/controls",
            "_model_module_version": "1.5.0",
            "_model_name": "HTMLModel",
            "_view_count": null,
            "_view_module": "@jupyter-widgets/controls",
            "_view_module_version": "1.5.0",
            "_view_name": "HTMLView",
            "description": "",
            "description_tooltip": null,
            "layout": "IPY_MODEL_406de9915d9c4e0f9b65059fbce14c4b",
            "placeholder": "​",
            "style": "IPY_MODEL_2d35ad5c57374c1e9bb6c03888966a93",
            "value": "generation_config.json: 100%"
          }
        },
        "2e7020e630214e2db6e92eed0e219742": {
          "model_module": "@jupyter-widgets/controls",
          "model_module_version": "1.5.0",
          "model_name": "HBoxModel",
          "state": {
            "_dom_classes": [],
            "_model_module": "@jupyter-widgets/controls",
            "_model_module_version": "1.5.0",
            "_model_name": "HBoxModel",
            "_view_count": null,
            "_view_module": "@jupyter-widgets/controls",
            "_view_module_version": "1.5.0",
            "_view_name": "HBoxView",
            "box_style": "",
            "children": [
              "IPY_MODEL_7b4567d889e14958af8e67fcc9f951e0",
              "IPY_MODEL_604b1c59630a479b8214fd729f00fb9c",
              "IPY_MODEL_6345803b5d7b45319aabeafceb66f63b"
            ],
            "layout": "IPY_MODEL_81f8a2f3108b45268d58554d2206d7e2"
          }
        },
        "34c02d6bfed547c18983cea96f6952e1": {
          "model_module": "@jupyter-widgets/controls",
          "model_module_version": "1.5.0",
          "model_name": "DescriptionStyleModel",
          "state": {
            "_model_module": "@jupyter-widgets/controls",
            "_model_module_version": "1.5.0",
            "_model_name": "DescriptionStyleModel",
            "_view_count": null,
            "_view_module": "@jupyter-widgets/base",
            "_view_module_version": "1.2.0",
            "_view_name": "StyleView",
            "description_width": ""
          }
        },
        "36dba99b43c5467eabe3c4cadcca675e": {
          "model_module": "@jupyter-widgets/base",
          "model_module_version": "1.2.0",
          "model_name": "LayoutModel",
          "state": {
            "_model_module": "@jupyter-widgets/base",
            "_model_module_version": "1.2.0",
            "_model_name": "LayoutModel",
            "_view_count": null,
            "_view_module": "@jupyter-widgets/base",
            "_view_module_version": "1.2.0",
            "_view_name": "LayoutView",
            "align_content": null,
            "align_items": null,
            "align_self": null,
            "border": null,
            "bottom": null,
            "display": null,
            "flex": null,
            "flex_flow": null,
            "grid_area": null,
            "grid_auto_columns": null,
            "grid_auto_flow": null,
            "grid_auto_rows": null,
            "grid_column": null,
            "grid_gap": null,
            "grid_row": null,
            "grid_template_areas": null,
            "grid_template_columns": null,
            "grid_template_rows": null,
            "height": null,
            "justify_content": null,
            "justify_items": null,
            "left": null,
            "margin": null,
            "max_height": null,
            "max_width": null,
            "min_height": null,
            "min_width": null,
            "object_fit": null,
            "object_position": null,
            "order": null,
            "overflow": null,
            "overflow_x": null,
            "overflow_y": null,
            "padding": null,
            "right": null,
            "top": null,
            "visibility": null,
            "width": null
          }
        },
        "3eb01cf7819445e288ffbe94135e158e": {
          "model_module": "@jupyter-widgets/controls",
          "model_module_version": "1.5.0",
          "model_name": "HTMLModel",
          "state": {
            "_dom_classes": [],
            "_model_module": "@jupyter-widgets/controls",
            "_model_module_version": "1.5.0",
            "_model_name": "HTMLModel",
            "_view_count": null,
            "_view_module": "@jupyter-widgets/controls",
            "_view_module_version": "1.5.0",
            "_view_name": "HTMLView",
            "description": "",
            "description_tooltip": null,
            "layout": "IPY_MODEL_f1a23c0d6fbf48aab5b372c2a0b3aeb7",
            "placeholder": "​",
            "style": "IPY_MODEL_a2369f91041348caab6511cc59b78d0a",
            "value": "spiece.model: 100%"
          }
        },
        "406de9915d9c4e0f9b65059fbce14c4b": {
          "model_module": "@jupyter-widgets/base",
          "model_module_version": "1.2.0",
          "model_name": "LayoutModel",
          "state": {
            "_model_module": "@jupyter-widgets/base",
            "_model_module_version": "1.2.0",
            "_model_name": "LayoutModel",
            "_view_count": null,
            "_view_module": "@jupyter-widgets/base",
            "_view_module_version": "1.2.0",
            "_view_name": "LayoutView",
            "align_content": null,
            "align_items": null,
            "align_self": null,
            "border": null,
            "bottom": null,
            "display": null,
            "flex": null,
            "flex_flow": null,
            "grid_area": null,
            "grid_auto_columns": null,
            "grid_auto_flow": null,
            "grid_auto_rows": null,
            "grid_column": null,
            "grid_gap": null,
            "grid_row": null,
            "grid_template_areas": null,
            "grid_template_columns": null,
            "grid_template_rows": null,
            "height": null,
            "justify_content": null,
            "justify_items": null,
            "left": null,
            "margin": null,
            "max_height": null,
            "max_width": null,
            "min_height": null,
            "min_width": null,
            "object_fit": null,
            "object_position": null,
            "order": null,
            "overflow": null,
            "overflow_x": null,
            "overflow_y": null,
            "padding": null,
            "right": null,
            "top": null,
            "visibility": null,
            "width": null
          }
        },
        "43b468bc2dc84b0981f102201ce99260": {
          "model_module": "@jupyter-widgets/controls",
          "model_module_version": "1.5.0",
          "model_name": "HTMLModel",
          "state": {
            "_dom_classes": [],
            "_model_module": "@jupyter-widgets/controls",
            "_model_module_version": "1.5.0",
            "_model_name": "HTMLModel",
            "_view_count": null,
            "_view_module": "@jupyter-widgets/controls",
            "_view_module_version": "1.5.0",
            "_view_name": "HTMLView",
            "description": "",
            "description_tooltip": null,
            "layout": "IPY_MODEL_2c43b3c6744744c09560d0d7de3e0612",
            "placeholder": "​",
            "style": "IPY_MODEL_d3cc65bd350d460eae803f53d83c8e97",
            "value": "tokenizer.json: 100%"
          }
        },
        "4848b12d2d1e4736946290a41fe50b23": {
          "model_module": "@jupyter-widgets/controls",
          "model_module_version": "1.5.0",
          "model_name": "ProgressStyleModel",
          "state": {
            "_model_module": "@jupyter-widgets/controls",
            "_model_module_version": "1.5.0",
            "_model_name": "ProgressStyleModel",
            "_view_count": null,
            "_view_module": "@jupyter-widgets/base",
            "_view_module_version": "1.2.0",
            "_view_name": "StyleView",
            "bar_color": null,
            "description_width": ""
          }
        },
        "4b1cf05d458a40dbb197dd1d32d9fc94": {
          "model_module": "@jupyter-widgets/base",
          "model_module_version": "1.2.0",
          "model_name": "LayoutModel",
          "state": {
            "_model_module": "@jupyter-widgets/base",
            "_model_module_version": "1.2.0",
            "_model_name": "LayoutModel",
            "_view_count": null,
            "_view_module": "@jupyter-widgets/base",
            "_view_module_version": "1.2.0",
            "_view_name": "LayoutView",
            "align_content": null,
            "align_items": null,
            "align_self": null,
            "border": null,
            "bottom": null,
            "display": null,
            "flex": null,
            "flex_flow": null,
            "grid_area": null,
            "grid_auto_columns": null,
            "grid_auto_flow": null,
            "grid_auto_rows": null,
            "grid_column": null,
            "grid_gap": null,
            "grid_row": null,
            "grid_template_areas": null,
            "grid_template_columns": null,
            "grid_template_rows": null,
            "height": null,
            "justify_content": null,
            "justify_items": null,
            "left": null,
            "margin": null,
            "max_height": null,
            "max_width": null,
            "min_height": null,
            "min_width": null,
            "object_fit": null,
            "object_position": null,
            "order": null,
            "overflow": null,
            "overflow_x": null,
            "overflow_y": null,
            "padding": null,
            "right": null,
            "top": null,
            "visibility": null,
            "width": null
          }
        },
        "4e253ef151a84c099e41888488dec92d": {
          "model_module": "@jupyter-widgets/controls",
          "model_module_version": "1.5.0",
          "model_name": "HTMLModel",
          "state": {
            "_dom_classes": [],
            "_model_module": "@jupyter-widgets/controls",
            "_model_module_version": "1.5.0",
            "_model_name": "HTMLModel",
            "_view_count": null,
            "_view_module": "@jupyter-widgets/controls",
            "_view_module_version": "1.5.0",
            "_view_name": "HTMLView",
            "description": "",
            "description_tooltip": null,
            "layout": "IPY_MODEL_f7bb5eddf24a45709a87afffae668262",
            "placeholder": "​",
            "style": "IPY_MODEL_a5f807b31fff48e2b4f97b8bfd2bc780",
            "value": " 147/147 [00:00&lt;00:00, 7.30kB/s]"
          }
        },
        "578303dfad504ea98cea445dfe0cedbd": {
          "model_module": "@jupyter-widgets/base",
          "model_module_version": "1.2.0",
          "model_name": "LayoutModel",
          "state": {
            "_model_module": "@jupyter-widgets/base",
            "_model_module_version": "1.2.0",
            "_model_name": "LayoutModel",
            "_view_count": null,
            "_view_module": "@jupyter-widgets/base",
            "_view_module_version": "1.2.0",
            "_view_name": "LayoutView",
            "align_content": null,
            "align_items": null,
            "align_self": null,
            "border": null,
            "bottom": null,
            "display": null,
            "flex": null,
            "flex_flow": null,
            "grid_area": null,
            "grid_auto_columns": null,
            "grid_auto_flow": null,
            "grid_auto_rows": null,
            "grid_column": null,
            "grid_gap": null,
            "grid_row": null,
            "grid_template_areas": null,
            "grid_template_columns": null,
            "grid_template_rows": null,
            "height": null,
            "justify_content": null,
            "justify_items": null,
            "left": null,
            "margin": null,
            "max_height": null,
            "max_width": null,
            "min_height": null,
            "min_width": null,
            "object_fit": null,
            "object_position": null,
            "order": null,
            "overflow": null,
            "overflow_x": null,
            "overflow_y": null,
            "padding": null,
            "right": null,
            "top": null,
            "visibility": null,
            "width": null
          }
        },
        "5c76a771e59b4f9aa81ec043b6c6231b": {
          "model_module": "@jupyter-widgets/controls",
          "model_module_version": "1.5.0",
          "model_name": "ProgressStyleModel",
          "state": {
            "_model_module": "@jupyter-widgets/controls",
            "_model_module_version": "1.5.0",
            "_model_name": "ProgressStyleModel",
            "_view_count": null,
            "_view_module": "@jupyter-widgets/base",
            "_view_module_version": "1.2.0",
            "_view_name": "StyleView",
            "bar_color": null,
            "description_width": ""
          }
        },
        "604b1c59630a479b8214fd729f00fb9c": {
          "model_module": "@jupyter-widgets/controls",
          "model_module_version": "1.5.0",
          "model_name": "FloatProgressModel",
          "state": {
            "_dom_classes": [],
            "_model_module": "@jupyter-widgets/controls",
            "_model_module_version": "1.5.0",
            "_model_name": "FloatProgressModel",
            "_view_count": null,
            "_view_module": "@jupyter-widgets/controls",
            "_view_module_version": "1.5.0",
            "_view_name": "ProgressView",
            "bar_style": "success",
            "description": "",
            "description_tooltip": null,
            "layout": "IPY_MODEL_36dba99b43c5467eabe3c4cadcca675e",
            "max": 891646390,
            "min": 0,
            "orientation": "horizontal",
            "style": "IPY_MODEL_c6a1a542fc714378a7c971551c2fc979",
            "value": 891646390
          }
        },
        "6345803b5d7b45319aabeafceb66f63b": {
          "model_module": "@jupyter-widgets/controls",
          "model_module_version": "1.5.0",
          "model_name": "HTMLModel",
          "state": {
            "_dom_classes": [],
            "_model_module": "@jupyter-widgets/controls",
            "_model_module_version": "1.5.0",
            "_model_name": "HTMLModel",
            "_view_count": null,
            "_view_module": "@jupyter-widgets/controls",
            "_view_module_version": "1.5.0",
            "_view_name": "HTMLView",
            "description": "",
            "description_tooltip": null,
            "layout": "IPY_MODEL_ec56049abfb746c696551dcabbcc758c",
            "placeholder": "​",
            "style": "IPY_MODEL_e14a68491cfc4dc8a1073869be3909c3",
            "value": " 892M/892M [00:14&lt;00:00, 167MB/s]"
          }
        },
        "6d4d01185593418faeccbf3d2b1fbe1f": {
          "model_module": "@jupyter-widgets/controls",
          "model_module_version": "1.5.0",
          "model_name": "FloatProgressModel",
          "state": {
            "_dom_classes": [],
            "_model_module": "@jupyter-widgets/controls",
            "_model_module_version": "1.5.0",
            "_model_name": "FloatProgressModel",
            "_view_count": null,
            "_view_module": "@jupyter-widgets/controls",
            "_view_module_version": "1.5.0",
            "_view_name": "ProgressView",
            "bar_style": "success",
            "description": "",
            "description_tooltip": null,
            "layout": "IPY_MODEL_578303dfad504ea98cea445dfe0cedbd",
            "max": 1389353,
            "min": 0,
            "orientation": "horizontal",
            "style": "IPY_MODEL_5c76a771e59b4f9aa81ec043b6c6231b",
            "value": 1389353
          }
        },
        "73cc84b77a144829932a1dfe126312c8": {
          "model_module": "@jupyter-widgets/controls",
          "model_module_version": "1.5.0",
          "model_name": "HBoxModel",
          "state": {
            "_dom_classes": [],
            "_model_module": "@jupyter-widgets/controls",
            "_model_module_version": "1.5.0",
            "_model_name": "HBoxModel",
            "_view_count": null,
            "_view_module": "@jupyter-widgets/controls",
            "_view_module_version": "1.5.0",
            "_view_name": "HBoxView",
            "box_style": "",
            "children": [
              "IPY_MODEL_43b468bc2dc84b0981f102201ce99260",
              "IPY_MODEL_6d4d01185593418faeccbf3d2b1fbe1f",
              "IPY_MODEL_86addd4037f543f585458108d5608082"
            ],
            "layout": "IPY_MODEL_9bd28ca489ae4ac2a044b5057df11acb"
          }
        },
        "7ae34b45997345c2b9ea3980a35f7156": {
          "model_module": "@jupyter-widgets/controls",
          "model_module_version": "1.5.0",
          "model_name": "FloatProgressModel",
          "state": {
            "_dom_classes": [],
            "_model_module": "@jupyter-widgets/controls",
            "_model_module_version": "1.5.0",
            "_model_name": "FloatProgressModel",
            "_view_count": null,
            "_view_module": "@jupyter-widgets/controls",
            "_view_module_version": "1.5.0",
            "_view_name": "ProgressView",
            "bar_style": "success",
            "description": "",
            "description_tooltip": null,
            "layout": "IPY_MODEL_4b1cf05d458a40dbb197dd1d32d9fc94",
            "max": 791656,
            "min": 0,
            "orientation": "horizontal",
            "style": "IPY_MODEL_4848b12d2d1e4736946290a41fe50b23",
            "value": 791656
          }
        },
        "7b4567d889e14958af8e67fcc9f951e0": {
          "model_module": "@jupyter-widgets/controls",
          "model_module_version": "1.5.0",
          "model_name": "HTMLModel",
          "state": {
            "_dom_classes": [],
            "_model_module": "@jupyter-widgets/controls",
            "_model_module_version": "1.5.0",
            "_model_name": "HTMLModel",
            "_view_count": null,
            "_view_module": "@jupyter-widgets/controls",
            "_view_module_version": "1.5.0",
            "_view_name": "HTMLView",
            "description": "",
            "description_tooltip": null,
            "layout": "IPY_MODEL_adb4df696f4246eea118e0c170f83a9a",
            "placeholder": "​",
            "style": "IPY_MODEL_34c02d6bfed547c18983cea96f6952e1",
            "value": "model.safetensors: 100%"
          }
        },
        "81f8a2f3108b45268d58554d2206d7e2": {
          "model_module": "@jupyter-widgets/base",
          "model_module_version": "1.2.0",
          "model_name": "LayoutModel",
          "state": {
            "_model_module": "@jupyter-widgets/base",
            "_model_module_version": "1.2.0",
            "_model_name": "LayoutModel",
            "_view_count": null,
            "_view_module": "@jupyter-widgets/base",
            "_view_module_version": "1.2.0",
            "_view_name": "LayoutView",
            "align_content": null,
            "align_items": null,
            "align_self": null,
            "border": null,
            "bottom": null,
            "display": null,
            "flex": null,
            "flex_flow": null,
            "grid_area": null,
            "grid_auto_columns": null,
            "grid_auto_flow": null,
            "grid_auto_rows": null,
            "grid_column": null,
            "grid_gap": null,
            "grid_row": null,
            "grid_template_areas": null,
            "grid_template_columns": null,
            "grid_template_rows": null,
            "height": null,
            "justify_content": null,
            "justify_items": null,
            "left": null,
            "margin": null,
            "max_height": null,
            "max_width": null,
            "min_height": null,
            "min_width": null,
            "object_fit": null,
            "object_position": null,
            "order": null,
            "overflow": null,
            "overflow_x": null,
            "overflow_y": null,
            "padding": null,
            "right": null,
            "top": null,
            "visibility": null,
            "width": null
          }
        },
        "832c5afa981f48ec93c8d7835ca64a8c": {
          "model_module": "@jupyter-widgets/controls",
          "model_module_version": "1.5.0",
          "model_name": "DescriptionStyleModel",
          "state": {
            "_model_module": "@jupyter-widgets/controls",
            "_model_module_version": "1.5.0",
            "_model_name": "DescriptionStyleModel",
            "_view_count": null,
            "_view_module": "@jupyter-widgets/base",
            "_view_module_version": "1.2.0",
            "_view_name": "StyleView",
            "description_width": ""
          }
        },
        "86addd4037f543f585458108d5608082": {
          "model_module": "@jupyter-widgets/controls",
          "model_module_version": "1.5.0",
          "model_name": "HTMLModel",
          "state": {
            "_dom_classes": [],
            "_model_module": "@jupyter-widgets/controls",
            "_model_module_version": "1.5.0",
            "_model_name": "HTMLModel",
            "_view_count": null,
            "_view_module": "@jupyter-widgets/controls",
            "_view_module_version": "1.5.0",
            "_view_name": "HTMLView",
            "description": "",
            "description_tooltip": null,
            "layout": "IPY_MODEL_af00afa0563944ceaee37478c121a663",
            "placeholder": "​",
            "style": "IPY_MODEL_832c5afa981f48ec93c8d7835ca64a8c",
            "value": " 1.39M/1.39M [00:00&lt;00:00, 31.3MB/s]"
          }
        },
        "95b1fdd1b4ec49099a8d968b56364d03": {
          "model_module": "@jupyter-widgets/base",
          "model_module_version": "1.2.0",
          "model_name": "LayoutModel",
          "state": {
            "_model_module": "@jupyter-widgets/base",
            "_model_module_version": "1.2.0",
            "_model_name": "LayoutModel",
            "_view_count": null,
            "_view_module": "@jupyter-widgets/base",
            "_view_module_version": "1.2.0",
            "_view_name": "LayoutView",
            "align_content": null,
            "align_items": null,
            "align_self": null,
            "border": null,
            "bottom": null,
            "display": null,
            "flex": null,
            "flex_flow": null,
            "grid_area": null,
            "grid_auto_columns": null,
            "grid_auto_flow": null,
            "grid_auto_rows": null,
            "grid_column": null,
            "grid_gap": null,
            "grid_row": null,
            "grid_template_areas": null,
            "grid_template_columns": null,
            "grid_template_rows": null,
            "height": null,
            "justify_content": null,
            "justify_items": null,
            "left": null,
            "margin": null,
            "max_height": null,
            "max_width": null,
            "min_height": null,
            "min_width": null,
            "object_fit": null,
            "object_position": null,
            "order": null,
            "overflow": null,
            "overflow_x": null,
            "overflow_y": null,
            "padding": null,
            "right": null,
            "top": null,
            "visibility": null,
            "width": null
          }
        },
        "99900abc504d405e82ce34ec41e0227b": {
          "model_module": "@jupyter-widgets/controls",
          "model_module_version": "1.5.0",
          "model_name": "HBoxModel",
          "state": {
            "_dom_classes": [],
            "_model_module": "@jupyter-widgets/controls",
            "_model_module_version": "1.5.0",
            "_model_name": "HBoxModel",
            "_view_count": null,
            "_view_module": "@jupyter-widgets/controls",
            "_view_module_version": "1.5.0",
            "_view_name": "HBoxView",
            "box_style": "",
            "children": [
              "IPY_MODEL_2d67827d80b94153b3d11bf952150c71",
              "IPY_MODEL_c48b801681df49c1b1e30374f5e0ebef",
              "IPY_MODEL_4e253ef151a84c099e41888488dec92d"
            ],
            "layout": "IPY_MODEL_d92db441fe3d4b98a301937435dffd32"
          }
        },
        "9a1600a7a3bc4f1b871a2a3de8f64c3a": {
          "model_module": "@jupyter-widgets/controls",
          "model_module_version": "1.5.0",
          "model_name": "HBoxModel",
          "state": {
            "_dom_classes": [],
            "_model_module": "@jupyter-widgets/controls",
            "_model_module_version": "1.5.0",
            "_model_name": "HBoxModel",
            "_view_count": null,
            "_view_module": "@jupyter-widgets/controls",
            "_view_module_version": "1.5.0",
            "_view_name": "HBoxView",
            "box_style": "",
            "children": [
              "IPY_MODEL_3eb01cf7819445e288ffbe94135e158e",
              "IPY_MODEL_7ae34b45997345c2b9ea3980a35f7156",
              "IPY_MODEL_a7d53676f68f44c8ad178d1ee2b56816"
            ],
            "layout": "IPY_MODEL_08ed7f8546914ba296c07daeb7847b0b"
          }
        },
        "9bd28ca489ae4ac2a044b5057df11acb": {
          "model_module": "@jupyter-widgets/base",
          "model_module_version": "1.2.0",
          "model_name": "LayoutModel",
          "state": {
            "_model_module": "@jupyter-widgets/base",
            "_model_module_version": "1.2.0",
            "_model_name": "LayoutModel",
            "_view_count": null,
            "_view_module": "@jupyter-widgets/base",
            "_view_module_version": "1.2.0",
            "_view_name": "LayoutView",
            "align_content": null,
            "align_items": null,
            "align_self": null,
            "border": null,
            "bottom": null,
            "display": null,
            "flex": null,
            "flex_flow": null,
            "grid_area": null,
            "grid_auto_columns": null,
            "grid_auto_flow": null,
            "grid_auto_rows": null,
            "grid_column": null,
            "grid_gap": null,
            "grid_row": null,
            "grid_template_areas": null,
            "grid_template_columns": null,
            "grid_template_rows": null,
            "height": null,
            "justify_content": null,
            "justify_items": null,
            "left": null,
            "margin": null,
            "max_height": null,
            "max_width": null,
            "min_height": null,
            "min_width": null,
            "object_fit": null,
            "object_position": null,
            "order": null,
            "overflow": null,
            "overflow_x": null,
            "overflow_y": null,
            "padding": null,
            "right": null,
            "top": null,
            "visibility": null,
            "width": null
          }
        },
        "a2369f91041348caab6511cc59b78d0a": {
          "model_module": "@jupyter-widgets/controls",
          "model_module_version": "1.5.0",
          "model_name": "DescriptionStyleModel",
          "state": {
            "_model_module": "@jupyter-widgets/controls",
            "_model_module_version": "1.5.0",
            "_model_name": "DescriptionStyleModel",
            "_view_count": null,
            "_view_module": "@jupyter-widgets/base",
            "_view_module_version": "1.2.0",
            "_view_name": "StyleView",
            "description_width": ""
          }
        },
        "a5f807b31fff48e2b4f97b8bfd2bc780": {
          "model_module": "@jupyter-widgets/controls",
          "model_module_version": "1.5.0",
          "model_name": "DescriptionStyleModel",
          "state": {
            "_model_module": "@jupyter-widgets/controls",
            "_model_module_version": "1.5.0",
            "_model_name": "DescriptionStyleModel",
            "_view_count": null,
            "_view_module": "@jupyter-widgets/base",
            "_view_module_version": "1.2.0",
            "_view_name": "StyleView",
            "description_width": ""
          }
        },
        "a7d53676f68f44c8ad178d1ee2b56816": {
          "model_module": "@jupyter-widgets/controls",
          "model_module_version": "1.5.0",
          "model_name": "HTMLModel",
          "state": {
            "_dom_classes": [],
            "_model_module": "@jupyter-widgets/controls",
            "_model_module_version": "1.5.0",
            "_model_name": "HTMLModel",
            "_view_count": null,
            "_view_module": "@jupyter-widgets/controls",
            "_view_module_version": "1.5.0",
            "_view_name": "HTMLView",
            "description": "",
            "description_tooltip": null,
            "layout": "IPY_MODEL_2873ca09a555484ab4979bea7b2b4861",
            "placeholder": "​",
            "style": "IPY_MODEL_2b6e5a6ad611483681e13c194ef4656e",
            "value": " 792k/792k [00:00&lt;00:00, 12.2MB/s]"
          }
        },
        "adb4df696f4246eea118e0c170f83a9a": {
          "model_module": "@jupyter-widgets/base",
          "model_module_version": "1.2.0",
          "model_name": "LayoutModel",
          "state": {
            "_model_module": "@jupyter-widgets/base",
            "_model_module_version": "1.2.0",
            "_model_name": "LayoutModel",
            "_view_count": null,
            "_view_module": "@jupyter-widgets/base",
            "_view_module_version": "1.2.0",
            "_view_name": "LayoutView",
            "align_content": null,
            "align_items": null,
            "align_self": null,
            "border": null,
            "bottom": null,
            "display": null,
            "flex": null,
            "flex_flow": null,
            "grid_area": null,
            "grid_auto_columns": null,
            "grid_auto_flow": null,
            "grid_auto_rows": null,
            "grid_column": null,
            "grid_gap": null,
            "grid_row": null,
            "grid_template_areas": null,
            "grid_template_columns": null,
            "grid_template_rows": null,
            "height": null,
            "justify_content": null,
            "justify_items": null,
            "left": null,
            "margin": null,
            "max_height": null,
            "max_width": null,
            "min_height": null,
            "min_width": null,
            "object_fit": null,
            "object_position": null,
            "order": null,
            "overflow": null,
            "overflow_x": null,
            "overflow_y": null,
            "padding": null,
            "right": null,
            "top": null,
            "visibility": null,
            "width": null
          }
        },
        "af00afa0563944ceaee37478c121a663": {
          "model_module": "@jupyter-widgets/base",
          "model_module_version": "1.2.0",
          "model_name": "LayoutModel",
          "state": {
            "_model_module": "@jupyter-widgets/base",
            "_model_module_version": "1.2.0",
            "_model_name": "LayoutModel",
            "_view_count": null,
            "_view_module": "@jupyter-widgets/base",
            "_view_module_version": "1.2.0",
            "_view_name": "LayoutView",
            "align_content": null,
            "align_items": null,
            "align_self": null,
            "border": null,
            "bottom": null,
            "display": null,
            "flex": null,
            "flex_flow": null,
            "grid_area": null,
            "grid_auto_columns": null,
            "grid_auto_flow": null,
            "grid_auto_rows": null,
            "grid_column": null,
            "grid_gap": null,
            "grid_row": null,
            "grid_template_areas": null,
            "grid_template_columns": null,
            "grid_template_rows": null,
            "height": null,
            "justify_content": null,
            "justify_items": null,
            "left": null,
            "margin": null,
            "max_height": null,
            "max_width": null,
            "min_height": null,
            "min_width": null,
            "object_fit": null,
            "object_position": null,
            "order": null,
            "overflow": null,
            "overflow_x": null,
            "overflow_y": null,
            "padding": null,
            "right": null,
            "top": null,
            "visibility": null,
            "width": null
          }
        },
        "b8615cd5e8a3494b877932bb1d6d62d9": {
          "model_module": "@jupyter-widgets/controls",
          "model_module_version": "1.5.0",
          "model_name": "ProgressStyleModel",
          "state": {
            "_model_module": "@jupyter-widgets/controls",
            "_model_module_version": "1.5.0",
            "_model_name": "ProgressStyleModel",
            "_view_count": null,
            "_view_module": "@jupyter-widgets/base",
            "_view_module_version": "1.2.0",
            "_view_name": "StyleView",
            "bar_color": null,
            "description_width": ""
          }
        },
        "c48b801681df49c1b1e30374f5e0ebef": {
          "model_module": "@jupyter-widgets/controls",
          "model_module_version": "1.5.0",
          "model_name": "FloatProgressModel",
          "state": {
            "_dom_classes": [],
            "_model_module": "@jupyter-widgets/controls",
            "_model_module_version": "1.5.0",
            "_model_name": "FloatProgressModel",
            "_view_count": null,
            "_view_module": "@jupyter-widgets/controls",
            "_view_module_version": "1.5.0",
            "_view_name": "ProgressView",
            "bar_style": "success",
            "description": "",
            "description_tooltip": null,
            "layout": "IPY_MODEL_95b1fdd1b4ec49099a8d968b56364d03",
            "max": 147,
            "min": 0,
            "orientation": "horizontal",
            "style": "IPY_MODEL_b8615cd5e8a3494b877932bb1d6d62d9",
            "value": 147
          }
        },
        "c6a1a542fc714378a7c971551c2fc979": {
          "model_module": "@jupyter-widgets/controls",
          "model_module_version": "1.5.0",
          "model_name": "ProgressStyleModel",
          "state": {
            "_model_module": "@jupyter-widgets/controls",
            "_model_module_version": "1.5.0",
            "_model_name": "ProgressStyleModel",
            "_view_count": null,
            "_view_module": "@jupyter-widgets/base",
            "_view_module_version": "1.2.0",
            "_view_name": "StyleView",
            "bar_color": null,
            "description_width": ""
          }
        },
        "d3cc65bd350d460eae803f53d83c8e97": {
          "model_module": "@jupyter-widgets/controls",
          "model_module_version": "1.5.0",
          "model_name": "DescriptionStyleModel",
          "state": {
            "_model_module": "@jupyter-widgets/controls",
            "_model_module_version": "1.5.0",
            "_model_name": "DescriptionStyleModel",
            "_view_count": null,
            "_view_module": "@jupyter-widgets/base",
            "_view_module_version": "1.2.0",
            "_view_name": "StyleView",
            "description_width": ""
          }
        },
        "d92db441fe3d4b98a301937435dffd32": {
          "model_module": "@jupyter-widgets/base",
          "model_module_version": "1.2.0",
          "model_name": "LayoutModel",
          "state": {
            "_model_module": "@jupyter-widgets/base",
            "_model_module_version": "1.2.0",
            "_model_name": "LayoutModel",
            "_view_count": null,
            "_view_module": "@jupyter-widgets/base",
            "_view_module_version": "1.2.0",
            "_view_name": "LayoutView",
            "align_content": null,
            "align_items": null,
            "align_self": null,
            "border": null,
            "bottom": null,
            "display": null,
            "flex": null,
            "flex_flow": null,
            "grid_area": null,
            "grid_auto_columns": null,
            "grid_auto_flow": null,
            "grid_auto_rows": null,
            "grid_column": null,
            "grid_gap": null,
            "grid_row": null,
            "grid_template_areas": null,
            "grid_template_columns": null,
            "grid_template_rows": null,
            "height": null,
            "justify_content": null,
            "justify_items": null,
            "left": null,
            "margin": null,
            "max_height": null,
            "max_width": null,
            "min_height": null,
            "min_width": null,
            "object_fit": null,
            "object_position": null,
            "order": null,
            "overflow": null,
            "overflow_x": null,
            "overflow_y": null,
            "padding": null,
            "right": null,
            "top": null,
            "visibility": null,
            "width": null
          }
        },
        "e14a68491cfc4dc8a1073869be3909c3": {
          "model_module": "@jupyter-widgets/controls",
          "model_module_version": "1.5.0",
          "model_name": "DescriptionStyleModel",
          "state": {
            "_model_module": "@jupyter-widgets/controls",
            "_model_module_version": "1.5.0",
            "_model_name": "DescriptionStyleModel",
            "_view_count": null,
            "_view_module": "@jupyter-widgets/base",
            "_view_module_version": "1.2.0",
            "_view_name": "StyleView",
            "description_width": ""
          }
        },
        "ec56049abfb746c696551dcabbcc758c": {
          "model_module": "@jupyter-widgets/base",
          "model_module_version": "1.2.0",
          "model_name": "LayoutModel",
          "state": {
            "_model_module": "@jupyter-widgets/base",
            "_model_module_version": "1.2.0",
            "_model_name": "LayoutModel",
            "_view_count": null,
            "_view_module": "@jupyter-widgets/base",
            "_view_module_version": "1.2.0",
            "_view_name": "LayoutView",
            "align_content": null,
            "align_items": null,
            "align_self": null,
            "border": null,
            "bottom": null,
            "display": null,
            "flex": null,
            "flex_flow": null,
            "grid_area": null,
            "grid_auto_columns": null,
            "grid_auto_flow": null,
            "grid_auto_rows": null,
            "grid_column": null,
            "grid_gap": null,
            "grid_row": null,
            "grid_template_areas": null,
            "grid_template_columns": null,
            "grid_template_rows": null,
            "height": null,
            "justify_content": null,
            "justify_items": null,
            "left": null,
            "margin": null,
            "max_height": null,
            "max_width": null,
            "min_height": null,
            "min_width": null,
            "object_fit": null,
            "object_position": null,
            "order": null,
            "overflow": null,
            "overflow_x": null,
            "overflow_y": null,
            "padding": null,
            "right": null,
            "top": null,
            "visibility": null,
            "width": null
          }
        },
        "f1a23c0d6fbf48aab5b372c2a0b3aeb7": {
          "model_module": "@jupyter-widgets/base",
          "model_module_version": "1.2.0",
          "model_name": "LayoutModel",
          "state": {
            "_model_module": "@jupyter-widgets/base",
            "_model_module_version": "1.2.0",
            "_model_name": "LayoutModel",
            "_view_count": null,
            "_view_module": "@jupyter-widgets/base",
            "_view_module_version": "1.2.0",
            "_view_name": "LayoutView",
            "align_content": null,
            "align_items": null,
            "align_self": null,
            "border": null,
            "bottom": null,
            "display": null,
            "flex": null,
            "flex_flow": null,
            "grid_area": null,
            "grid_auto_columns": null,
            "grid_auto_flow": null,
            "grid_auto_rows": null,
            "grid_column": null,
            "grid_gap": null,
            "grid_row": null,
            "grid_template_areas": null,
            "grid_template_columns": null,
            "grid_template_rows": null,
            "height": null,
            "justify_content": null,
            "justify_items": null,
            "left": null,
            "margin": null,
            "max_height": null,
            "max_width": null,
            "min_height": null,
            "min_width": null,
            "object_fit": null,
            "object_position": null,
            "order": null,
            "overflow": null,
            "overflow_x": null,
            "overflow_y": null,
            "padding": null,
            "right": null,
            "top": null,
            "visibility": null,
            "width": null
          }
        },
        "f7bb5eddf24a45709a87afffae668262": {
          "model_module": "@jupyter-widgets/base",
          "model_module_version": "1.2.0",
          "model_name": "LayoutModel",
          "state": {
            "_model_module": "@jupyter-widgets/base",
            "_model_module_version": "1.2.0",
            "_model_name": "LayoutModel",
            "_view_count": null,
            "_view_module": "@jupyter-widgets/base",
            "_view_module_version": "1.2.0",
            "_view_name": "LayoutView",
            "align_content": null,
            "align_items": null,
            "align_self": null,
            "border": null,
            "bottom": null,
            "display": null,
            "flex": null,
            "flex_flow": null,
            "grid_area": null,
            "grid_auto_columns": null,
            "grid_auto_flow": null,
            "grid_auto_rows": null,
            "grid_column": null,
            "grid_gap": null,
            "grid_row": null,
            "grid_template_areas": null,
            "grid_template_columns": null,
            "grid_template_rows": null,
            "height": null,
            "justify_content": null,
            "justify_items": null,
            "left": null,
            "margin": null,
            "max_height": null,
            "max_width": null,
            "min_height": null,
            "min_width": null,
            "object_fit": null,
            "object_position": null,
            "order": null,
            "overflow": null,
            "overflow_x": null,
            "overflow_y": null,
            "padding": null,
            "right": null,
            "top": null,
            "visibility": null,
            "width": null
          }
        }
      }
    }
  },
  "nbformat": 4,
  "nbformat_minor": 0
}
